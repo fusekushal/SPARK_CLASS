{
  "cells": [
    {
      "cell_type": "markdown",
      "metadata": {
        "id": "GOviCBhbngLe"
      },
      "source": [
        "# Ex1 - Getting and Knowing your Data"
      ]
    },
    {
      "cell_type": "markdown",
      "metadata": {
        "id": "cnVjy8OzngLf"
      },
      "source": [
        "\n",
        "### Step 1: Initialize PySpark Session\n",
        "\n"
      ]
    },
    {
      "cell_type": "code",
      "execution_count": 1,
      "metadata": {
        "id": "BWKS0Y-MngLg",
        "outputId": "93b1004c-c1b4-4e7a-ceaa-6f1edd8e9cae"
      },
      "outputs": [
        {
          "name": "stderr",
          "output_type": "stream",
          "text": [
            "23/08/29 14:24:24 WARN Utils: Your hostname, kushal-Latitude-E5440 resolves to a loopback address: 127.0.1.1; using 172.16.5.134 instead (on interface wlp2s0)\n",
            "23/08/29 14:24:24 WARN Utils: Set SPARK_LOCAL_IP if you need to bind to another address\n",
            "Setting default log level to \"WARN\".\n",
            "To adjust logging level use sc.setLogLevel(newLevel). For SparkR, use setLogLevel(newLevel).\n",
            "23/08/29 14:24:25 WARN NativeCodeLoader: Unable to load native-hadoop library for your platform... using builtin-java classes where applicable\n",
            "23/08/29 14:24:27 WARN Utils: Service 'SparkUI' could not bind on port 4040. Attempting port 4041.\n"
          ]
        }
      ],
      "source": [
        "from pyspark.sql import SparkSession\n",
        "\n",
        "# Create a Spark session\n",
        "spark = SparkSession.builder.appName(\"Day1\").getOrCreate()\n"
      ]
    },
    {
      "cell_type": "markdown",
      "metadata": {
        "id": "ZsKpvtp0ngLh"
      },
      "source": [
        "### Step 2: Load the Dataset\n",
        "\n",
        "\n",
        "\n"
      ]
    },
    {
      "cell_type": "code",
      "execution_count": 2,
      "metadata": {
        "id": "8HqS9YFLngLh"
      },
      "outputs": [],
      "source": [
        "# Load the Chipotle dataset into a Spark DataFrame\n",
        "data_path = 'chipotle.csv' # Replace with the actual path\n",
        "df = spark.read.csv(data_path, header=True, inferSchema=True)\n"
      ]
    },
    {
      "cell_type": "markdown",
      "metadata": {
        "id": "UPy0RQ34ngLh"
      },
      "source": [
        "### Step 3. Get an overview of the DataFrame:\n"
      ]
    },
    {
      "cell_type": "code",
      "execution_count": 5,
      "metadata": {
        "id": "PPQhClvongLh",
        "outputId": "18720dbf-83aa-4d92-9569-8d1c4785f405"
      },
      "outputs": [
        {
          "name": "stdout",
          "output_type": "stream",
          "text": [
            "root\n",
            " |-- _c0: integer (nullable = true)\n",
            " |-- order_id: integer (nullable = true)\n",
            " |-- quantity: integer (nullable = true)\n",
            " |-- item_name: string (nullable = true)\n",
            " |-- choice_description: string (nullable = true)\n",
            " |-- item_price: string (nullable = true)\n",
            "\n"
          ]
        }
      ],
      "source": [
        "#taking a look at the schema of our current dataframe\n",
        "df.printSchema() "
      ]
    },
    {
      "cell_type": "code",
      "execution_count": 16,
      "metadata": {},
      "outputs": [
        {
          "name": "stdout",
          "output_type": "stream",
          "text": [
            "+---+--------+--------+--------------------+--------------------+----------+\n",
            "|_c0|order_id|quantity|           item_name|  choice_description|item_price|\n",
            "+---+--------+--------+--------------------+--------------------+----------+\n",
            "|  0|       1|       1|Chips and Fresh T...|                null|    $2.39 |\n",
            "|  1|       1|       1|                Izze|        [Clementine]|    $3.39 |\n",
            "|  2|       1|       1|    Nantucket Nectar|             [Apple]|    $3.39 |\n",
            "|  3|       1|       1|Chips and Tomatil...|                null|    $2.39 |\n",
            "|  4|       2|       2|        Chicken Bowl|[Tomatillo-Red Ch...|   $16.98 |\n",
            "+---+--------+--------+--------------------+--------------------+----------+\n",
            "only showing top 5 rows\n",
            "\n"
          ]
        },
        {
          "name": "stderr",
          "output_type": "stream",
          "text": [
            "23/08/29 14:45:17 WARN CSVHeaderChecker: CSV header does not conform to the schema.\n",
            " Header: , order_id, quantity, item_name, choice_description, item_price\n",
            " Schema: _c0, order_id, quantity, item_name, choice_description, item_price\n",
            "Expected: _c0 but found: \n",
            "CSV file: file:///home/kushal/SPARK_CLASS/chipotle.csv\n"
          ]
        }
      ],
      "source": [
        "#Method 1: by using show() we can view the contents of the dataframe and by specifying the numbers inside it we can limit the content\n",
        "df.show(5)"
      ]
    },
    {
      "cell_type": "code",
      "execution_count": 18,
      "metadata": {},
      "outputs": [
        {
          "name": "stdout",
          "output_type": "stream",
          "text": [
            "+---+--------+--------+--------------------+--------------------+----------+\n",
            "|_c0|order_id|quantity|           item_name|  choice_description|item_price|\n",
            "+---+--------+--------+--------------------+--------------------+----------+\n",
            "|  0|       1|       1|Chips and Fresh T...|                null|    $2.39 |\n",
            "|  1|       1|       1|                Izze|        [Clementine]|    $3.39 |\n",
            "|  2|       1|       1|    Nantucket Nectar|             [Apple]|    $3.39 |\n",
            "|  3|       1|       1|Chips and Tomatil...|                null|    $2.39 |\n",
            "|  4|       2|       2|        Chicken Bowl|[Tomatillo-Red Ch...|   $16.98 |\n",
            "+---+--------+--------+--------------------+--------------------+----------+\n",
            "only showing top 5 rows\n",
            "\n"
          ]
        },
        {
          "name": "stderr",
          "output_type": "stream",
          "text": [
            "23/08/29 14:48:00 WARN CSVHeaderChecker: CSV header does not conform to the schema.\n",
            " Header: , order_id, quantity, item_name, choice_description, item_price\n",
            " Schema: _c0, order_id, quantity, item_name, choice_description, item_price\n",
            "Expected: _c0 but found: \n",
            "CSV file: file:///home/kushal/SPARK_CLASS/chipotle.csv\n"
          ]
        }
      ],
      "source": [
        "#Method 2: By using select\n",
        "df.select(\"*\").show(5)"
      ]
    },
    {
      "cell_type": "code",
      "execution_count": 13,
      "metadata": {
        "id": "ENzcdIl6ngLh",
        "outputId": "fe9e44cc-8c1f-4657-8af8-2f7526e73d61"
      },
      "outputs": [
        {
          "name": "stdout",
          "output_type": "stream",
          "text": [
            "+---+--------+--------+--------------------+--------------------+----------+\n",
            "|_c0|order_id|quantity|           item_name|  choice_description|item_price|\n",
            "+---+--------+--------+--------------------+--------------------+----------+\n",
            "|  0|       1|       1|Chips and Fresh T...|                null|    $2.39 |\n",
            "|  1|       1|       1|                Izze|        [Clementine]|    $3.39 |\n",
            "|  2|       1|       1|    Nantucket Nectar|             [Apple]|    $3.39 |\n",
            "|  3|       1|       1|Chips and Tomatil...|                null|    $2.39 |\n",
            "|  4|       2|       2|        Chicken Bowl|[Tomatillo-Red Ch...|   $16.98 |\n",
            "+---+--------+--------+--------------------+--------------------+----------+\n",
            "only showing top 5 rows\n",
            "\n"
          ]
        },
        {
          "name": "stderr",
          "output_type": "stream",
          "text": [
            "23/08/29 14:42:21 WARN CSVHeaderChecker: CSV header does not conform to the schema.\n",
            " Header: , order_id, quantity, item_name, choice_description, item_price\n",
            " Schema: _c0, order_id, quantity, item_name, choice_description, item_price\n",
            "Expected: _c0 but found: \n",
            "CSV file: file:///home/kushal/SPARK_CLASS/chipotle.csv\n"
          ]
        }
      ],
      "source": [
        "#Method 3: selectExpr is the DataFrame equivalent of SQL queries on a table of data\n",
        "df.selectExpr(\"*\").show(5)"
      ]
    },
    {
      "cell_type": "code",
      "execution_count": 19,
      "metadata": {},
      "outputs": [
        {
          "name": "stdout",
          "output_type": "stream",
          "text": [
            "+---+--------+--------+--------------------+--------------------+----------+\n",
            "|_c0|order_id|quantity|           item_name|  choice_description|item_price|\n",
            "+---+--------+--------+--------------------+--------------------+----------+\n",
            "|  0|       1|       1|Chips and Fresh T...|                null|    $2.39 |\n",
            "|  1|       1|       1|                Izze|        [Clementine]|    $3.39 |\n",
            "|  2|       1|       1|    Nantucket Nectar|             [Apple]|    $3.39 |\n",
            "|  3|       1|       1|Chips and Tomatil...|                null|    $2.39 |\n",
            "|  4|       2|       2|        Chicken Bowl|[Tomatillo-Red Ch...|   $16.98 |\n",
            "+---+--------+--------+--------------------+--------------------+----------+\n",
            "\n"
          ]
        },
        {
          "name": "stderr",
          "output_type": "stream",
          "text": [
            "23/08/29 14:54:31 WARN CSVHeaderChecker: CSV header does not conform to the schema.\n",
            " Header: , order_id, quantity, item_name, choice_description, item_price\n",
            " Schema: _c0, order_id, quantity, item_name, choice_description, item_price\n",
            "Expected: _c0 but found: \n",
            "CSV file: file:///home/kushal/SPARK_CLASS/chipotle.csv\n"
          ]
        }
      ],
      "source": [
        "#method 4: Using limit but it does not produce the exact comment\n",
        "df.limit(5).show()"
      ]
    },
    {
      "cell_type": "markdown",
      "metadata": {
        "id": "liKiPfy8ngLh"
      },
      "source": [
        "### Step 4.Calculate basic statistics:\n"
      ]
    },
    {
      "cell_type": "code",
      "execution_count": 26,
      "metadata": {
        "id": "ucLkr2RwngLh",
        "outputId": "547d9f95-8b0b-4941-ee2e-2b828a57b4bf",
        "scrolled": false
      },
      "outputs": [
        {
          "name": "stderr",
          "output_type": "stream",
          "text": [
            "23/08/29 15:16:04 WARN CSVHeaderChecker: CSV header does not conform to the schema.\n",
            " Header: , order_id, quantity, item_name, choice_description, item_price\n",
            " Schema: _c0, order_id, quantity, item_name, choice_description, item_price\n",
            "Expected: _c0 but found: \n",
            "CSV file: file:///home/kushal/SPARK_CLASS/chipotle.csv\n"
          ]
        },
        {
          "name": "stdout",
          "output_type": "stream",
          "text": [
            "+-------+------------------+-----------------+------------------+-----------------+--------------------+----------+\n",
            "|summary|               _c0|         order_id|          quantity|        item_name|  choice_description|item_price|\n",
            "+-------+------------------+-----------------+------------------+-----------------+--------------------+----------+\n",
            "|  count|              4622|             4622|              4622|             4622|                3376|      4622|\n",
            "|   mean|            2310.5|927.2548680225011|1.0757247944612722|             null|                null|      null|\n",
            "| stddev|1334.4008018582722|528.8907955866096|0.4101863342575333|             null|                null|      null|\n",
            "|    min|                 0|                1|                 1|6 Pack Soft Drink|[Adobo-Marinated ...|    $1.09 |\n",
            "|    max|              4621|             1834|                15|Veggie Soft Tacos|[[Tomatillo-Red C...|    $9.39 |\n",
            "+-------+------------------+-----------------+------------------+-----------------+--------------------+----------+\n",
            "\n"
          ]
        }
      ],
      "source": [
        "#method 1: Using describe method\n",
        "df.describe().show()"
      ]
    },
    {
      "cell_type": "code",
      "execution_count": 28,
      "metadata": {},
      "outputs": [
        {
          "name": "stderr",
          "output_type": "stream",
          "text": [
            "23/08/29 15:18:06 WARN CSVHeaderChecker: CSV header does not conform to the schema.\n",
            " Header: , order_id, quantity, item_name, choice_description, item_price\n",
            " Schema: _c0, order_id, quantity, item_name, choice_description, item_price\n",
            "Expected: _c0 but found: \n",
            "CSV file: file:///home/kushal/SPARK_CLASS/chipotle.csv\n",
            "[Stage 27:>                                                         (0 + 1) / 1]\r"
          ]
        },
        {
          "name": "stdout",
          "output_type": "stream",
          "text": [
            "+-------+------------------+-----------------+------------------+-----------------+--------------------+----------+\n",
            "|summary|               _c0|         order_id|          quantity|        item_name|  choice_description|item_price|\n",
            "+-------+------------------+-----------------+------------------+-----------------+--------------------+----------+\n",
            "|  count|              4622|             4622|              4622|             4622|                3376|      4622|\n",
            "|   mean|            2310.5|927.2548680225011|1.0757247944612722|             null|                null|      null|\n",
            "| stddev|1334.4008018582722|528.8907955866096|0.4101863342575333|             null|                null|      null|\n",
            "|    min|                 0|                1|                 1|6 Pack Soft Drink|[Adobo-Marinated ...|    $1.09 |\n",
            "|    25%|              1155|              477|                 1|             null|                null|      null|\n",
            "|    50%|              2310|              926|                 1|             null|                null|      null|\n",
            "|    75%|              3466|             1393|                 1|             null|                null|      null|\n",
            "|    max|              4621|             1834|                15|Veggie Soft Tacos|[[Tomatillo-Red C...|    $9.39 |\n",
            "+-------+------------------+-----------------+------------------+-----------------+--------------------+----------+\n",
            "\n"
          ]
        },
        {
          "name": "stderr",
          "output_type": "stream",
          "text": [
            "                                                                                \r"
          ]
        }
      ],
      "source": [
        "#Method 2: it shows what df.describe shows plus quartile information as well\n",
        "df.summary().show()"
      ]
    },
    {
      "cell_type": "markdown",
      "metadata": {
        "id": "y7UQ2Yg5ngLh"
      },
      "source": [
        "### Step 5. What is the number of observations in the dataset?"
      ]
    },
    {
      "cell_type": "code",
      "execution_count": null,
      "metadata": {
        "id": "J37y3eu0ngLh",
        "outputId": "f7ba5f5e-5135-409a-c8ec-1d2afe3a2f15"
      },
      "outputs": [
        {
          "name": "stdout",
          "output_type": "stream",
          "text": [
            "Number of Observations: 4622\n"
          ]
        }
      ],
      "source": []
    },
    {
      "cell_type": "code",
      "execution_count": 29,
      "metadata": {},
      "outputs": [
        {
          "name": "stdout",
          "output_type": "stream",
          "text": [
            "Number of Observations 27732\n"
          ]
        }
      ],
      "source": [
        "row = df.count()\n",
        "col = len(df.columns)\n",
        "obb = row * col\n",
        "print(\"Number of Observations\", obb)"
      ]
    },
    {
      "cell_type": "markdown",
      "metadata": {
        "id": "j0fc1IqnngLh"
      },
      "source": [
        "### Step 6. What is the number of columns in the dataset?"
      ]
    },
    {
      "cell_type": "code",
      "execution_count": null,
      "metadata": {
        "id": "ZvrsnxdnngLh",
        "outputId": "6abda964-24b5-43c9-bbb6-e8dc16580cd1"
      },
      "outputs": [
        {
          "name": "stdout",
          "output_type": "stream",
          "text": [
            "Number of Columns: 6\n"
          ]
        }
      ],
      "source": []
    },
    {
      "cell_type": "code",
      "execution_count": 30,
      "metadata": {},
      "outputs": [
        {
          "name": "stdout",
          "output_type": "stream",
          "text": [
            "6\n"
          ]
        }
      ],
      "source": [
        "col = len(df.columns)\n",
        "print(col)"
      ]
    },
    {
      "cell_type": "markdown",
      "metadata": {
        "id": "f6UHKvXRngLi"
      },
      "source": [
        "### Step 7. Print the name of all the columns."
      ]
    },
    {
      "cell_type": "code",
      "execution_count": null,
      "metadata": {
        "id": "Umq6X5rongLi",
        "outputId": "71e43868-0c4c-4029-c48f-617a552d8883"
      },
      "outputs": [
        {
          "name": "stdout",
          "output_type": "stream",
          "text": [
            "Column Names: ['_c0', 'order_id', 'quantity', 'item_name', 'choice_description', 'item_price']\n"
          ]
        }
      ],
      "source": []
    }
  ],
  "metadata": {
    "anaconda-cloud": {},
    "colab": {
      "provenance": []
    },
    "kernelspec": {
      "display_name": "Python 3",
      "language": "python",
      "name": "python3"
    },
    "language_info": {
      "codemirror_mode": {
        "name": "ipython",
        "version": 3
      },
      "file_extension": ".py",
      "mimetype": "text/x-python",
      "name": "python",
      "nbconvert_exporter": "python",
      "pygments_lexer": "ipython3",
      "version": "3.10.12"
    }
  },
  "nbformat": 4,
  "nbformat_minor": 0
}
