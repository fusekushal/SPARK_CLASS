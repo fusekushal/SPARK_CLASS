{
 "cells": [
  {
   "attachments": {},
   "cell_type": "markdown",
   "metadata": {},
   "source": [
    "## Joins"
   ]
  },
  {
   "cell_type": "code",
   "execution_count": 2,
   "metadata": {},
   "outputs": [
    {
     "name": "stderr",
     "output_type": "stream",
     "text": [
      "23/09/04 09:56:31 WARN Utils: Your hostname, kushal-Latitude-E5440 resolves to a loopback address: 127.0.1.1; using 192.168.1.14 instead (on interface wlp2s0)\n",
      "23/09/04 09:56:31 WARN Utils: Set SPARK_LOCAL_IP if you need to bind to another address\n",
      "Setting default log level to \"WARN\".\n",
      "To adjust logging level use sc.setLogLevel(newLevel). For SparkR, use setLogLevel(newLevel).\n",
      "23/09/04 09:56:32 WARN NativeCodeLoader: Unable to load native-hadoop library for your platform... using builtin-java classes where applicable\n"
     ]
    }
   ],
   "source": [
    "from pyspark.sql import SparkSession\n",
    "\n",
    "# Create a Spark session\n",
    "spark = SparkSession.builder.appName(\"day3\").getOrCreate()\n"
   ]
  },
  {
   "attachments": {},
   "cell_type": "markdown",
   "metadata": {},
   "source": [
    "\n",
    "Question: You are given two DataFrames: employees_df and departments_df, which contain information about employees and their respective departments. The schema for the DataFrames is as follows:\n",
    "\n",
    "employees_df schema:\n",
    "|-- employee_id: integer (nullable = true)\n",
    "|-- employee_name: string (nullable = true)\n",
    "|-- department_id: integer (nullable = true)\n",
    "\n",
    "departments_df schema:\n",
    "\n",
    "|-- department_id: integer (nullable = true)\n",
    "|-- department_name: string (nullable = true)\n",
    "\n",
    "Employees DataFrame:\n",
    "                                                                                \n",
    "+-----------+-------------+-------------+\n",
    "|employee_id|employee_name|department_id|\n",
    "+-----------+-------------+-------------+\n",
    "|1          |Pallavi mam  |101          |\n",
    "|2          |Bob          |102          |\n",
    "|3          |Cathy        |101          |\n",
    "|4          |David        |103          |\n",
    "|5          |Amrit Sir    |104          |\n",
    "|6          |Alice        |null         |\n",
    "|7          |Eva          |null         |\n",
    "|8          |Frank        |110          |\n",
    "|9          |Grace        |109          |\n",
    "|10         |Henry        |null         |\n",
    "+-----------+-------------+-------------+\n",
    "\n",
    "\n",
    "\n",
    "Departments DataFrame:\n",
    "+-------------+------------------------+\n",
    "|department_id|department_name         |\n",
    "+-------------+------------------------+\n",
    "|101          |HR                      |\n",
    "|102          |Engineering             |\n",
    "|103          |Finance                 |\n",
    "|104          |Marketing               |\n",
    "|105          |Operations              |\n",
    "|106          |null                    |\n",
    "|107          |Operations              |\n",
    "|108          |Production              |\n",
    "|null         |Finance                 |\n",
    "|110          |Research and Development|\n",
    "+-------------+----------------------\n"
   ]
  },
  {
   "cell_type": "code",
   "execution_count": 3,
   "metadata": {},
   "outputs": [],
   "source": [
    "from pyspark.sql.types import StructType, StructField, IntegerType, StringType"
   ]
  },
  {
   "cell_type": "code",
   "execution_count": 4,
   "metadata": {},
   "outputs": [],
   "source": [
    "employees_schema = StructType([\n",
    "    StructField(\"employee_id\", IntegerType(), True),\n",
    "    StructField(\"employee_name\", StringType(), True),\n",
    "    StructField(\"department_id\", IntegerType(), True)\n",
    "])\n",
    "\n",
    "departments_schema = StructType([\n",
    "    StructField(\"department_id\", IntegerType(), True),\n",
    "    StructField(\"department_name\", StringType(), True)\n",
    "])"
   ]
  },
  {
   "cell_type": "code",
   "execution_count": 5,
   "metadata": {},
   "outputs": [],
   "source": [
    "employees_data = [\n",
    "    (1, \"Pallavi mam\", 101),\n",
    "    (2, \"Bob\", 102),\n",
    "    (3, \"Cathy\", 101),\n",
    "    (4, \"David\", 103),\n",
    "    (5, \"Amrit Sir\", 104),\n",
    "    (6, \"Alice\", None),\n",
    "    (7, \"Eva\", None),\n",
    "    (8, \"Frank\", 110),\n",
    "    (9, \"Grace\", 109),\n",
    "    (10, \"Henry\", None)\n",
    "]\n",
    "\n",
    "departments_data = [\n",
    "    (101, \"HR\"),\n",
    "    (102, \"Engineering\"),\n",
    "    (103, \"Finance\"),\n",
    "    (104, \"Marketing\"),\n",
    "    (105, \"Operations\"),\n",
    "    (106, None),\n",
    "    (107, \"Operations\"),\n",
    "    (108, \"Production\"),\n",
    "    (None, \"Finance\"),\n",
    "    (110, \"Research and Development\")\n",
    "]"
   ]
  },
  {
   "cell_type": "code",
   "execution_count": 6,
   "metadata": {},
   "outputs": [],
   "source": [
    "employees_df = spark.createDataFrame(employees_data, schema=employees_schema)\n",
    "departments_df = spark.createDataFrame(departments_data, schema=departments_schema)\n"
   ]
  },
  {
   "cell_type": "code",
   "execution_count": 10,
   "metadata": {},
   "outputs": [
    {
     "name": "stdout",
     "output_type": "stream",
     "text": [
      "+-----------+-------------+-------------+\n",
      "|employee_id|employee_name|department_id|\n",
      "+-----------+-------------+-------------+\n",
      "|          1|  Pallavi mam|          101|\n",
      "|          2|          Bob|          102|\n",
      "|          3|        Cathy|          101|\n",
      "|          4|        David|          103|\n",
      "|          5|    Amrit Sir|          104|\n",
      "|          6|        Alice|         null|\n",
      "|          7|          Eva|         null|\n",
      "|          8|        Frank|          110|\n",
      "|          9|        Grace|          109|\n",
      "|         10|        Henry|         null|\n",
      "+-----------+-------------+-------------+\n",
      "\n",
      "root\n",
      " |-- employee_id: integer (nullable = true)\n",
      " |-- employee_name: string (nullable = true)\n",
      " |-- department_id: integer (nullable = true)\n",
      "\n",
      "+-------------+--------------------+\n",
      "|department_id|     department_name|\n",
      "+-------------+--------------------+\n",
      "|          101|                  HR|\n",
      "|          102|         Engineering|\n",
      "|          103|             Finance|\n",
      "|          104|           Marketing|\n",
      "|          105|          Operations|\n",
      "|          106|                null|\n",
      "|          107|          Operations|\n",
      "|          108|          Production|\n",
      "|         null|             Finance|\n",
      "|          110|Research and Deve...|\n",
      "+-------------+--------------------+\n",
      "\n",
      "root\n",
      " |-- department_id: integer (nullable = true)\n",
      " |-- department_name: string (nullable = true)\n",
      "\n"
     ]
    },
    {
     "name": "stderr",
     "output_type": "stream",
     "text": [
      "                                                                                \r"
     ]
    }
   ],
   "source": [
    "employees_df.show()\n",
    "employees_df.printSchema()\n",
    "departments_df.show()\n",
    "departments_df.printSchema()"
   ]
  },
  {
   "cell_type": "code",
   "execution_count": 43,
   "metadata": {},
   "outputs": [],
   "source": [
    "departments_df.createOrReplaceTempView(\"department\")\n",
    "employees_df.createOrReplaceTempView(\"employee\")"
   ]
  },
  {
   "attachments": {},
   "cell_type": "markdown",
   "metadata": {},
   "source": [
    "### Join Expressions\n",
    "\n",
    "Question: How can you combine the employees_df and departments_df DataFrames based on the common \"department_id\" column to get a combined DataFrame with employee names and their respective department names?"
   ]
  },
  {
   "cell_type": "code",
   "execution_count": 14,
   "metadata": {},
   "outputs": [
    {
     "name": "stderr",
     "output_type": "stream",
     "text": [
      "[Stage 22:===========================================>              (3 + 1) / 4]\r"
     ]
    },
    {
     "name": "stdout",
     "output_type": "stream",
     "text": [
      "+-------------+-----------+-------------+------------------------+\n",
      "|department_id|employee_id|employee_name|department_name         |\n",
      "+-------------+-----------+-------------+------------------------+\n",
      "|101          |1          |Pallavi mam  |HR                      |\n",
      "|101          |3          |Cathy        |HR                      |\n",
      "|102          |2          |Bob          |Engineering             |\n",
      "|103          |4          |David        |Finance                 |\n",
      "|104          |5          |Amrit Sir    |Marketing               |\n",
      "|110          |8          |Frank        |Research and Development|\n",
      "+-------------+-----------+-------------+------------------------+\n",
      "\n"
     ]
    },
    {
     "name": "stderr",
     "output_type": "stream",
     "text": [
      "                                                                                \r"
     ]
    }
   ],
   "source": [
    "#basic syntax of join is 'df1.join(df2, joinExpression, joinType)\n",
    "#here joinexpression is the common column and jointype is the type of join to be performed\n",
    "employees_df.join(departments_df, \"department_id\", \"inner\").show(truncate = False)\n"
   ]
  },
  {
   "cell_type": "code",
   "execution_count": 48,
   "metadata": {},
   "outputs": [
    {
     "name": "stderr",
     "output_type": "stream",
     "text": [
      "[Stage 173:============================>                            (2 + 2) / 4]\r"
     ]
    },
    {
     "name": "stdout",
     "output_type": "stream",
     "text": [
      "+-------------+-----------+-------------+--------------------+\n",
      "|department_id|employee_id|employee_name|     department_name|\n",
      "+-------------+-----------+-------------+--------------------+\n",
      "|          101|          1|  Pallavi mam|                  HR|\n",
      "|          101|          3|        Cathy|                  HR|\n",
      "|          102|          2|          Bob|         Engineering|\n",
      "|          103|          4|        David|             Finance|\n",
      "|          104|          5|    Amrit Sir|           Marketing|\n",
      "|          110|          8|        Frank|Research and Deve...|\n",
      "+-------------+-----------+-------------+--------------------+\n",
      "\n"
     ]
    },
    {
     "name": "stderr",
     "output_type": "stream",
     "text": [
      "                                                                                \r"
     ]
    }
   ],
   "source": [
    "p1 = spark.sql(\"\"\"\n",
    "                select  e.department_id, e.employee_id, e.employee_name, d.department_name \n",
    "                from employee e\n",
    "               join department d\n",
    "               on e.department_id = d.department_id\n",
    "\n",
    "\"\"\")\n",
    "p1.show()"
   ]
  },
  {
   "attachments": {},
   "cell_type": "markdown",
   "metadata": {},
   "source": [
    "### Inner Joins\n",
    "\n",
    "Question: How can you retrieve employee names and their respective department names for employees belonging to the \"Engineering\" department?"
   ]
  },
  {
   "cell_type": "code",
   "execution_count": 19,
   "metadata": {},
   "outputs": [
    {
     "name": "stderr",
     "output_type": "stream",
     "text": [
      "[Stage 42:=============================>                            (2 + 2) / 4]\r"
     ]
    },
    {
     "name": "stdout",
     "output_type": "stream",
     "text": [
      "+-------------+---------------+\n",
      "|employee_name|department_name|\n",
      "+-------------+---------------+\n",
      "|          Bob|    Engineering|\n",
      "+-------------+---------------+\n",
      "\n"
     ]
    },
    {
     "name": "stderr",
     "output_type": "stream",
     "text": [
      "                                                                                \r"
     ]
    }
   ],
   "source": [
    "ijj = employees_df.join(departments_df, \"department_id\", \"inner\")\n",
    "ij = ijj.select(\"employee_name\", \"department_name\")\n",
    "ij.where(ij.department_name == \"Engineering\").show()"
   ]
  },
  {
   "cell_type": "code",
   "execution_count": 51,
   "metadata": {},
   "outputs": [
    {
     "name": "stderr",
     "output_type": "stream",
     "text": [
      "[Stage 183:==============>                                          (1 + 3) / 4]\r"
     ]
    },
    {
     "name": "stdout",
     "output_type": "stream",
     "text": [
      "+-------------+---------------+\n",
      "|employee_name|department_name|\n",
      "+-------------+---------------+\n",
      "|          Bob|    Engineering|\n",
      "+-------------+---------------+\n",
      "\n"
     ]
    },
    {
     "name": "stderr",
     "output_type": "stream",
     "text": [
      "                                                                                \r"
     ]
    }
   ],
   "source": [
    "p2 = spark.sql(\"\"\"\n",
    "                select  e.employee_name, d.department_name \n",
    "                from employee e\n",
    "               join department d\n",
    "               on e.department_id = d.department_id\n",
    "               where d.department_name = \"Engineering\"\n",
    "\n",
    "\"\"\")\n",
    "p2.show()"
   ]
  },
  {
   "attachments": {},
   "cell_type": "markdown",
   "metadata": {},
   "source": [
    "### Outer Joins\n",
    "\n",
    "Question: Retrieve a DataFrame that contains all employees along with their department names. If an employee doesn't have a department assigned, display \"No Department\"."
   ]
  },
  {
   "cell_type": "code",
   "execution_count": 23,
   "metadata": {},
   "outputs": [
    {
     "name": "stderr",
     "output_type": "stream",
     "text": [
      "                                                                                \r"
     ]
    },
    {
     "name": "stdout",
     "output_type": "stream",
     "text": [
      "+-------------+--------------------+\n",
      "|employee_name|     department_name|\n",
      "+-------------+--------------------+\n",
      "|        Alice|       No Department|\n",
      "|          Eva|       No Department|\n",
      "|        Henry|       No Department|\n",
      "|         null|             Finance|\n",
      "|  Pallavi mam|                  HR|\n",
      "|        Cathy|                  HR|\n",
      "|          Bob|         Engineering|\n",
      "|        David|             Finance|\n",
      "|    Amrit Sir|           Marketing|\n",
      "|         null|          Operations|\n",
      "|         null|       No Department|\n",
      "|         null|          Operations|\n",
      "|         null|          Production|\n",
      "|        Grace|       No Department|\n",
      "|        Frank|Research and Deve...|\n",
      "+-------------+--------------------+\n",
      "\n"
     ]
    },
    {
     "name": "stderr",
     "output_type": "stream",
     "text": [
      "[Stage 72:==============>                                           (1 + 3) / 4]\r"
     ]
    },
    {
     "name": "stdout",
     "output_type": "stream",
     "text": [
      "+-------------+--------------------+\n",
      "|employee_name|     department_name|\n",
      "+-------------+--------------------+\n",
      "|        Alice|       No Department|\n",
      "|          Eva|       No Department|\n",
      "|        Henry|       No Department|\n",
      "|No Department|             Finance|\n",
      "|  Pallavi mam|                  HR|\n",
      "|        Cathy|                  HR|\n",
      "|          Bob|         Engineering|\n",
      "|        David|             Finance|\n",
      "|    Amrit Sir|           Marketing|\n",
      "|No Department|          Operations|\n",
      "|No Department|       No Department|\n",
      "|No Department|          Operations|\n",
      "|No Department|          Production|\n",
      "|        Grace|       No Department|\n",
      "|        Frank|Research and Deve...|\n",
      "+-------------+--------------------+\n",
      "\n"
     ]
    },
    {
     "name": "stderr",
     "output_type": "stream",
     "text": [
      "                                                                                \r"
     ]
    }
   ],
   "source": [
    "ojj = employees_df.join(departments_df, \"department_id\", \"outer\")\n",
    "oj = ojj.select(\"employee_name\", \"department_name\")\n",
    "#oj.show()\n",
    "filled_oj = oj.fillna(\"No Department\", subset=[\"department_name\"])\n",
    "filled_oj.show() #according to question\n",
    "actual_oj = oj.fillna(\"No Department\")\n",
    "actual_oj.show() #according to expected output"
   ]
  },
  {
   "cell_type": "code",
   "execution_count": 57,
   "metadata": {},
   "outputs": [
    {
     "name": "stderr",
     "output_type": "stream",
     "text": [
      "[Stage 198:============================>                            (2 + 2) / 4]\r"
     ]
    },
    {
     "name": "stdout",
     "output_type": "stream",
     "text": [
      "+-------------+--------------------+\n",
      "|employee_name|     department_name|\n",
      "+-------------+--------------------+\n",
      "|        Alice|       No Department|\n",
      "|          Eva|       No Department|\n",
      "|        Henry|       No Department|\n",
      "|No Department|             Finance|\n",
      "|  Pallavi mam|                  HR|\n",
      "|        Cathy|                  HR|\n",
      "|          Bob|         Engineering|\n",
      "|        David|             Finance|\n",
      "|    Amrit Sir|           Marketing|\n",
      "|No Department|          Operations|\n",
      "|No Department|       No Department|\n",
      "|No Department|          Operations|\n",
      "|No Department|          Production|\n",
      "|        Grace|       No Department|\n",
      "|        Frank|Research and Deve...|\n",
      "+-------------+--------------------+\n",
      "\n"
     ]
    },
    {
     "name": "stderr",
     "output_type": "stream",
     "text": [
      "                                                                                \r"
     ]
    }
   ],
   "source": [
    "p3 = spark.sql(\"\"\"\n",
    "                select  coalesce(e.employee_name, \"No Department\") as employee_name,\n",
    "                        coalesce(d.department_name, \"No Department\") as department_name\n",
    "                from employee e\n",
    "               full outer join department d\n",
    "               on e.department_id = d.department_id\n",
    "\"\"\")\n",
    "p3.show()"
   ]
  },
  {
   "attachments": {},
   "cell_type": "markdown",
   "metadata": {},
   "source": [
    "### Left Outer Joins\n",
    "\n",
    "Question: List all employees along with their department names. If an employee doesn't have a department assigned, display \"No Department\"."
   ]
  },
  {
   "cell_type": "code",
   "execution_count": 25,
   "metadata": {},
   "outputs": [
    {
     "name": "stderr",
     "output_type": "stream",
     "text": [
      "                                                                                \r"
     ]
    },
    {
     "name": "stdout",
     "output_type": "stream",
     "text": [
      "+-------------+--------------------+\n",
      "|employee_name|     department_name|\n",
      "+-------------+--------------------+\n",
      "|  Pallavi mam|                  HR|\n",
      "|          Bob|         Engineering|\n",
      "|        Cathy|                  HR|\n",
      "|        David|             Finance|\n",
      "|        Alice|       No Department|\n",
      "|    Amrit Sir|           Marketing|\n",
      "|          Eva|       No Department|\n",
      "|        Henry|       No Department|\n",
      "|        Grace|       No Department|\n",
      "|        Frank|Research and Deve...|\n",
      "+-------------+--------------------+\n",
      "\n"
     ]
    }
   ],
   "source": [
    "lojj = employees_df.join(departments_df, \"department_id\", \"left_outer\")\n",
    "loj = lojj.select(\"employee_name\", \"department_name\")\n",
    "loj.fillna(\"No Department\").show()"
   ]
  },
  {
   "cell_type": "code",
   "execution_count": 58,
   "metadata": {},
   "outputs": [
    {
     "name": "stderr",
     "output_type": "stream",
     "text": [
      "[Stage 203:==============>                                          (1 + 3) / 4]\r"
     ]
    },
    {
     "name": "stdout",
     "output_type": "stream",
     "text": [
      "+-------------+--------------------+\n",
      "|employee_name|     department_name|\n",
      "+-------------+--------------------+\n",
      "|  Pallavi mam|                  HR|\n",
      "|          Bob|         Engineering|\n",
      "|        Cathy|                  HR|\n",
      "|        David|             Finance|\n",
      "|        Alice|       No Department|\n",
      "|    Amrit Sir|           Marketing|\n",
      "|          Eva|       No Department|\n",
      "|        Henry|       No Department|\n",
      "|        Grace|       No Department|\n",
      "|        Frank|Research and Deve...|\n",
      "+-------------+--------------------+\n",
      "\n"
     ]
    },
    {
     "name": "stderr",
     "output_type": "stream",
     "text": [
      "                                                                                \r"
     ]
    }
   ],
   "source": [
    "p4 = spark.sql(\"\"\"\n",
    "                select  e.employee_name,\n",
    "                        coalesce(d.department_name, \"No Department\") as department_name\n",
    "                from employee e\n",
    "               left outer join department d\n",
    "               on e.department_id = d.department_id\n",
    "\"\"\")\n",
    "p4.show()"
   ]
  },
  {
   "attachments": {},
   "cell_type": "markdown",
   "metadata": {},
   "source": [
    "### Right Outer Joins\n",
    "\n",
    "Question: Display a list of departments along with employee names. If a department has no employees, display \"No Employees\".\n",
    "\n"
   ]
  },
  {
   "cell_type": "code",
   "execution_count": 33,
   "metadata": {},
   "outputs": [
    {
     "name": "stderr",
     "output_type": "stream",
     "text": [
      "                                                                                \r"
     ]
    },
    {
     "name": "stdout",
     "output_type": "stream",
     "text": [
      "+--------------------+-------------+\n",
      "|     department_name|employee_name|\n",
      "+--------------------+-------------+\n",
      "|                  HR|        Cathy|\n",
      "|                  HR|  Pallavi mam|\n",
      "|         Engineering|          Bob|\n",
      "|             Finance|        David|\n",
      "|           Marketing|    Amrit Sir|\n",
      "|          Operations|  No Employee|\n",
      "|         No Employee|  No Employee|\n",
      "|          Production|  No Employee|\n",
      "|             Finance|  No Employee|\n",
      "|          Operations|  No Employee|\n",
      "|Research and Deve...|        Frank|\n",
      "+--------------------+-------------+\n",
      "\n"
     ]
    }
   ],
   "source": [
    "rojj = employees_df.join(departments_df, \"department_id\", \"right_outer\")\n",
    "roj = rojj.select(\"department_name\", \"employee_name\")\n",
    "roj.fillna(\"No Employee\").show()"
   ]
  },
  {
   "cell_type": "code",
   "execution_count": 60,
   "metadata": {},
   "outputs": [
    {
     "name": "stderr",
     "output_type": "stream",
     "text": [
      "                                                                                \r"
     ]
    },
    {
     "name": "stdout",
     "output_type": "stream",
     "text": [
      "+--------------------+-------------+\n",
      "|     department_name|employee_name|\n",
      "+--------------------+-------------+\n",
      "|                  HR|        Cathy|\n",
      "|                  HR|  Pallavi mam|\n",
      "|         Engineering|          Bob|\n",
      "|             Finance|        David|\n",
      "|           Marketing|    Amrit Sir|\n",
      "|          Operations|  No Employee|\n",
      "|         No Employee|  No Employee|\n",
      "|          Production|  No Employee|\n",
      "|             Finance|  No Employee|\n",
      "|          Operations|  No Employee|\n",
      "|Research and Deve...|        Frank|\n",
      "+--------------------+-------------+\n",
      "\n"
     ]
    }
   ],
   "source": [
    "p5 = spark.sql(\"\"\"\n",
    "                select coalesce(d.department_name, \"No Employee\") as department_name, \n",
    "                        coalesce(e.employee_name, \"No Employee\") as employee_name\n",
    "                from employee e\n",
    "               right outer join department d\n",
    "               on e.department_id = d.department_id\n",
    "\"\"\")\n",
    "p5.show()"
   ]
  },
  {
   "attachments": {},
   "cell_type": "markdown",
   "metadata": {},
   "source": [
    "### Left Semi Joins\n",
    "\n",
    "Question: Retrieve a DataFrame that includes employee names for departments that have employees.\n",
    "\n"
   ]
  },
  {
   "cell_type": "code",
   "execution_count": 7,
   "metadata": {},
   "outputs": [
    {
     "name": "stderr",
     "output_type": "stream",
     "text": [
      "                                                                                \r"
     ]
    },
    {
     "name": "stdout",
     "output_type": "stream",
     "text": [
      "+-------------+\n",
      "|employee_name|\n",
      "+-------------+\n",
      "|  Pallavi mam|\n",
      "|        Cathy|\n",
      "|          Bob|\n",
      "|        David|\n",
      "|    Amrit Sir|\n",
      "|        Frank|\n",
      "+-------------+\n",
      "\n"
     ]
    },
    {
     "name": "stderr",
     "output_type": "stream",
     "text": [
      "[Stage 6:=============================>                             (2 + 2) / 4]\r"
     ]
    },
    {
     "name": "stdout",
     "output_type": "stream",
     "text": [
      "+-------------+-----------+-------------+\n",
      "|department_id|employee_id|employee_name|\n",
      "+-------------+-----------+-------------+\n",
      "|          101|          1|  Pallavi mam|\n",
      "|          101|          3|        Cathy|\n",
      "|          102|          2|          Bob|\n",
      "|          103|          4|        David|\n",
      "|          104|          5|    Amrit Sir|\n",
      "|          110|          8|        Frank|\n",
      "+-------------+-----------+-------------+\n",
      "\n"
     ]
    },
    {
     "name": "stderr",
     "output_type": "stream",
     "text": [
      "                                                                                \r"
     ]
    }
   ],
   "source": [
    "lsjj = employees_df.join(departments_df, \"department_id\", \"left_semi\")\n",
    "lsj = lsjj.select(\"employee_name\")\n",
    "lsj.show()\n",
    "lsjj.show()"
   ]
  },
  {
   "cell_type": "code",
   "execution_count": 61,
   "metadata": {},
   "outputs": [
    {
     "name": "stderr",
     "output_type": "stream",
     "text": [
      "[Stage 215:>                                                        (0 + 4) / 4]\r"
     ]
    },
    {
     "name": "stdout",
     "output_type": "stream",
     "text": [
      "+-------------+\n",
      "|employee_name|\n",
      "+-------------+\n",
      "|  Pallavi mam|\n",
      "|        Cathy|\n",
      "|          Bob|\n",
      "|        David|\n",
      "|    Amrit Sir|\n",
      "|        Frank|\n",
      "+-------------+\n",
      "\n"
     ]
    },
    {
     "name": "stderr",
     "output_type": "stream",
     "text": [
      "                                                                                \r"
     ]
    }
   ],
   "source": [
    "p6 = spark.sql(\"\"\"\n",
    "                select  e.employee_name \n",
    "                from employee e\n",
    "               left semi join department d\n",
    "               on e.department_id = d.department_id\n",
    "\n",
    "\"\"\")\n",
    "p6.show()"
   ]
  },
  {
   "attachments": {},
   "cell_type": "markdown",
   "metadata": {},
   "source": [
    "### Left Anti Joins\n",
    "\n",
    "Question: Find the employees who don't belong to any department."
   ]
  },
  {
   "cell_type": "code",
   "execution_count": 34,
   "metadata": {},
   "outputs": [
    {
     "name": "stderr",
     "output_type": "stream",
     "text": [
      "                                                                                \r"
     ]
    },
    {
     "name": "stdout",
     "output_type": "stream",
     "text": [
      "+-------------+\n",
      "|employee_name|\n",
      "+-------------+\n",
      "|        Alice|\n",
      "|          Eva|\n",
      "|        Henry|\n",
      "|        Grace|\n",
      "+-------------+\n",
      "\n"
     ]
    }
   ],
   "source": [
    "lajj = employees_df.join(departments_df, \"department_id\", \"left_anti\")\n",
    "laj = lajj.select(\"employee_name\")\n",
    "laj.show()"
   ]
  },
  {
   "cell_type": "code",
   "execution_count": 62,
   "metadata": {},
   "outputs": [
    {
     "name": "stderr",
     "output_type": "stream",
     "text": [
      "[Stage 220:==========================================>              (3 + 1) / 4]\r"
     ]
    },
    {
     "name": "stdout",
     "output_type": "stream",
     "text": [
      "+-------------+\n",
      "|employee_name|\n",
      "+-------------+\n",
      "|        Alice|\n",
      "|          Eva|\n",
      "|        Henry|\n",
      "|        Grace|\n",
      "+-------------+\n",
      "\n"
     ]
    },
    {
     "name": "stderr",
     "output_type": "stream",
     "text": [
      "                                                                                \r"
     ]
    }
   ],
   "source": [
    "p7 = spark.sql(\"\"\"\n",
    "                select e.employee_name \n",
    "                from employee e\n",
    "               left anti join department d\n",
    "               on e.department_id = d.department_id\n",
    "\n",
    "\"\"\")\n",
    "p7.show()"
   ]
  },
  {
   "attachments": {},
   "cell_type": "markdown",
   "metadata": {},
   "source": [
    "### Cross (Cartesian) Joins\n",
    "\n",
    "Question: Create a DataFrame that contains all possible combinations of employees and departments."
   ]
  },
  {
   "cell_type": "code",
   "execution_count": 39,
   "metadata": {},
   "outputs": [
    {
     "name": "stderr",
     "output_type": "stream",
     "text": [
      "[Stage 166:==========================================>              (3 + 1) / 4]\r"
     ]
    },
    {
     "name": "stdout",
     "output_type": "stream",
     "text": [
      "+-----------+-------------+-------------+-------------+--------------------+\n",
      "|employee_id|employee_name|department_id|department_id|     department_name|\n",
      "+-----------+-------------+-------------+-------------+--------------------+\n",
      "|          1|  Pallavi mam|          101|          101|                  HR|\n",
      "|          1|  Pallavi mam|          101|          102|         Engineering|\n",
      "|          2|          Bob|          102|          101|                  HR|\n",
      "|          2|          Bob|          102|          102|         Engineering|\n",
      "|          1|  Pallavi mam|          101|          103|             Finance|\n",
      "|          1|  Pallavi mam|          101|          104|           Marketing|\n",
      "|          2|          Bob|          102|          103|             Finance|\n",
      "|          2|          Bob|          102|          104|           Marketing|\n",
      "|          1|  Pallavi mam|          101|          105|          Operations|\n",
      "|          1|  Pallavi mam|          101|          106|                null|\n",
      "|          2|          Bob|          102|          105|          Operations|\n",
      "|          2|          Bob|          102|          106|                null|\n",
      "|          1|  Pallavi mam|          101|          107|          Operations|\n",
      "|          1|  Pallavi mam|          101|          108|          Production|\n",
      "|          1|  Pallavi mam|          101|         null|             Finance|\n",
      "|          1|  Pallavi mam|          101|          110|Research and Deve...|\n",
      "|          2|          Bob|          102|          107|          Operations|\n",
      "|          2|          Bob|          102|          108|          Production|\n",
      "|          2|          Bob|          102|         null|             Finance|\n",
      "|          2|          Bob|          102|          110|Research and Deve...|\n",
      "+-----------+-------------+-------------+-------------+--------------------+\n",
      "only showing top 20 rows\n",
      "\n"
     ]
    },
    {
     "name": "stderr",
     "output_type": "stream",
     "text": [
      "                                                                                \r"
     ]
    }
   ],
   "source": [
    "#employees_df.join(departments_df, \"department_id\", \"cross\")\n",
    "employees_df.crossJoin(departments_df).show()"
   ]
  },
  {
   "cell_type": "code",
   "execution_count": 63,
   "metadata": {},
   "outputs": [
    {
     "name": "stdout",
     "output_type": "stream",
     "text": [
      "+-----------+-------------+-------------+-------------+--------------------+\n",
      "|employee_id|employee_name|department_id|department_id|     department_name|\n",
      "+-----------+-------------+-------------+-------------+--------------------+\n",
      "|          1|  Pallavi mam|          101|          101|                  HR|\n",
      "|          1|  Pallavi mam|          101|          102|         Engineering|\n",
      "|          2|          Bob|          102|          101|                  HR|\n",
      "|          2|          Bob|          102|          102|         Engineering|\n",
      "|          1|  Pallavi mam|          101|          103|             Finance|\n",
      "|          1|  Pallavi mam|          101|          104|           Marketing|\n",
      "|          2|          Bob|          102|          103|             Finance|\n",
      "|          2|          Bob|          102|          104|           Marketing|\n",
      "|          1|  Pallavi mam|          101|          105|          Operations|\n",
      "|          1|  Pallavi mam|          101|          106|                null|\n",
      "|          2|          Bob|          102|          105|          Operations|\n",
      "|          2|          Bob|          102|          106|                null|\n",
      "|          1|  Pallavi mam|          101|          107|          Operations|\n",
      "|          1|  Pallavi mam|          101|          108|          Production|\n",
      "|          1|  Pallavi mam|          101|         null|             Finance|\n",
      "|          1|  Pallavi mam|          101|          110|Research and Deve...|\n",
      "|          2|          Bob|          102|          107|          Operations|\n",
      "|          2|          Bob|          102|          108|          Production|\n",
      "|          2|          Bob|          102|         null|             Finance|\n",
      "|          2|          Bob|          102|          110|Research and Deve...|\n",
      "+-----------+-------------+-------------+-------------+--------------------+\n",
      "only showing top 20 rows\n",
      "\n"
     ]
    },
    {
     "name": "stderr",
     "output_type": "stream",
     "text": [
      "                                                                                \r"
     ]
    }
   ],
   "source": [
    "p8 = spark.sql(\"\"\"\n",
    "                select * \n",
    "                from employee e\n",
    "               cross join department d\n",
    "\"\"\")\n",
    "p8.show()"
   ]
  }
 ],
 "metadata": {
  "kernelspec": {
   "display_name": "openai",
   "language": "python",
   "name": "python3"
  },
  "language_info": {
   "codemirror_mode": {
    "name": "ipython",
    "version": 3
   },
   "file_extension": ".py",
   "mimetype": "text/x-python",
   "name": "python",
   "nbconvert_exporter": "python",
   "pygments_lexer": "ipython3",
   "version": "3.10.12"
  },
  "orig_nbformat": 4
 },
 "nbformat": 4,
 "nbformat_minor": 2
}
